{
 "cells": [
  {
   "cell_type": "code",
   "execution_count": 4,
   "metadata": {},
   "outputs": [],
   "source": [
    "import combinatorics as comb"
   ]
  },
  {
   "cell_type": "code",
   "execution_count": 10,
   "metadata": {},
   "outputs": [],
   "source": [
    "TOTAL_CARDS = 52\n",
    "SELECTION_NUM = 4\n",
    "CLABS_NUM = int(TOTAL_CARDS / 4)\n",
    "\n",
    "totalCases = comb.combNum(TOTAL_CARDS, SELECTION_NUM)"
   ]
  },
  {
   "cell_type": "code",
   "execution_count": 13,
   "metadata": {},
   "outputs": [
    {
     "name": "stdout",
     "output_type": "stream",
     "text": [
      "а: 0.26%\n"
     ]
    }
   ],
   "source": [
    "clabsCases = comb.combNum(CLABS_NUM, SELECTION_NUM)\n",
    "\n",
    "answer_a = clabsCases / totalCases\n",
    "print(f\"а: {round(answer_a * 100, 2)}%\")"
   ]
  },
  {
   "cell_type": "code",
   "execution_count": 14,
   "metadata": {},
   "outputs": [
    {
     "name": "stdout",
     "output_type": "stream",
     "text": [
      "б: 28.13%\n"
     ]
    }
   ],
   "source": [
    "noAceCases = comb.combNum(TOTAL_CARDS - 4, SELECTION_NUM)\n",
    "answer_b = 1 - noAceCases / totalCases\n",
    "print(f\"б: {round(answer_b * 100, 2)}%\")"
   ]
  }
 ],
 "metadata": {
  "kernelspec": {
   "display_name": "Python 3",
   "language": "python",
   "name": "python3"
  },
  "language_info": {
   "codemirror_mode": {
    "name": "ipython",
    "version": 3
   },
   "file_extension": ".py",
   "mimetype": "text/x-python",
   "name": "python",
   "nbconvert_exporter": "python",
   "pygments_lexer": "ipython3",
   "version": "3.10.7"
  },
  "orig_nbformat": 4,
  "vscode": {
   "interpreter": {
    "hash": "6c32dbc7c05ad5f3c68dcc7b95560371c17f323899af461511fd225478ef93f6"
   }
  }
 },
 "nbformat": 4,
 "nbformat_minor": 2
}
